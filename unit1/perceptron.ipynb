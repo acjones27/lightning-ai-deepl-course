{
 "cells": [
  {
   "cell_type": "markdown",
   "id": "d71bce70-9dc3-448b-9f9a-8896e83b6d09",
   "metadata": {},
   "source": [
    "# Implementing a Perceptron"
   ]
  },
  {
   "cell_type": "code",
   "execution_count": 41,
   "id": "d389cf02",
   "metadata": {},
   "outputs": [],
   "source": [
    "# !pip install numpy pandas matplotlib"
   ]
  },
  {
   "cell_type": "markdown",
   "id": "b9549676-2fa5-41a7-bbb9-ce03f5797c34",
   "metadata": {},
   "source": [
    "## Loading the Dataset"
   ]
  },
  {
   "cell_type": "code",
   "execution_count": 42,
   "id": "f609024c-3eae-4ad5-8cb8-b95b403b7606",
   "metadata": {},
   "outputs": [
    {
     "data": {
      "text/html": [
       "<div>\n",
       "<style scoped>\n",
       "    .dataframe tbody tr th:only-of-type {\n",
       "        vertical-align: middle;\n",
       "    }\n",
       "\n",
       "    .dataframe tbody tr th {\n",
       "        vertical-align: top;\n",
       "    }\n",
       "\n",
       "    .dataframe thead th {\n",
       "        text-align: right;\n",
       "    }\n",
       "</style>\n",
       "<table border=\"1\" class=\"dataframe\">\n",
       "  <thead>\n",
       "    <tr style=\"text-align: right;\">\n",
       "      <th></th>\n",
       "      <th>x1</th>\n",
       "      <th>x2</th>\n",
       "      <th>label</th>\n",
       "    </tr>\n",
       "  </thead>\n",
       "  <tbody>\n",
       "    <tr>\n",
       "      <th>0</th>\n",
       "      <td>0.77</td>\n",
       "      <td>-1.14</td>\n",
       "      <td>0</td>\n",
       "    </tr>\n",
       "    <tr>\n",
       "      <th>1</th>\n",
       "      <td>-0.33</td>\n",
       "      <td>1.44</td>\n",
       "      <td>0</td>\n",
       "    </tr>\n",
       "    <tr>\n",
       "      <th>2</th>\n",
       "      <td>0.91</td>\n",
       "      <td>-3.07</td>\n",
       "      <td>0</td>\n",
       "    </tr>\n",
       "    <tr>\n",
       "      <th>3</th>\n",
       "      <td>-0.37</td>\n",
       "      <td>-1.91</td>\n",
       "      <td>0</td>\n",
       "    </tr>\n",
       "    <tr>\n",
       "      <th>4</th>\n",
       "      <td>-0.63</td>\n",
       "      <td>-1.53</td>\n",
       "      <td>0</td>\n",
       "    </tr>\n",
       "    <tr>\n",
       "      <th>5</th>\n",
       "      <td>0.39</td>\n",
       "      <td>-1.99</td>\n",
       "      <td>0</td>\n",
       "    </tr>\n",
       "    <tr>\n",
       "      <th>6</th>\n",
       "      <td>-0.49</td>\n",
       "      <td>-2.74</td>\n",
       "      <td>0</td>\n",
       "    </tr>\n",
       "    <tr>\n",
       "      <th>7</th>\n",
       "      <td>-0.68</td>\n",
       "      <td>-1.52</td>\n",
       "      <td>0</td>\n",
       "    </tr>\n",
       "    <tr>\n",
       "      <th>8</th>\n",
       "      <td>-0.10</td>\n",
       "      <td>-3.43</td>\n",
       "      <td>0</td>\n",
       "    </tr>\n",
       "    <tr>\n",
       "      <th>9</th>\n",
       "      <td>-0.05</td>\n",
       "      <td>-1.95</td>\n",
       "      <td>0</td>\n",
       "    </tr>\n",
       "    <tr>\n",
       "      <th>10</th>\n",
       "      <td>3.88</td>\n",
       "      <td>0.65</td>\n",
       "      <td>1</td>\n",
       "    </tr>\n",
       "    <tr>\n",
       "      <th>11</th>\n",
       "      <td>0.73</td>\n",
       "      <td>2.97</td>\n",
       "      <td>1</td>\n",
       "    </tr>\n",
       "    <tr>\n",
       "      <th>12</th>\n",
       "      <td>0.83</td>\n",
       "      <td>3.94</td>\n",
       "      <td>1</td>\n",
       "    </tr>\n",
       "    <tr>\n",
       "      <th>13</th>\n",
       "      <td>1.59</td>\n",
       "      <td>1.25</td>\n",
       "      <td>1</td>\n",
       "    </tr>\n",
       "    <tr>\n",
       "      <th>14</th>\n",
       "      <td>1.14</td>\n",
       "      <td>3.91</td>\n",
       "      <td>1</td>\n",
       "    </tr>\n",
       "    <tr>\n",
       "      <th>15</th>\n",
       "      <td>1.73</td>\n",
       "      <td>2.80</td>\n",
       "      <td>1</td>\n",
       "    </tr>\n",
       "    <tr>\n",
       "      <th>16</th>\n",
       "      <td>1.31</td>\n",
       "      <td>1.85</td>\n",
       "      <td>1</td>\n",
       "    </tr>\n",
       "    <tr>\n",
       "      <th>17</th>\n",
       "      <td>1.56</td>\n",
       "      <td>3.85</td>\n",
       "      <td>1</td>\n",
       "    </tr>\n",
       "    <tr>\n",
       "      <th>18</th>\n",
       "      <td>1.23</td>\n",
       "      <td>2.54</td>\n",
       "      <td>1</td>\n",
       "    </tr>\n",
       "    <tr>\n",
       "      <th>19</th>\n",
       "      <td>1.33</td>\n",
       "      <td>2.03</td>\n",
       "      <td>1</td>\n",
       "    </tr>\n",
       "  </tbody>\n",
       "</table>\n",
       "</div>"
      ],
      "text/plain": [
       "      x1    x2  label\n",
       "0   0.77 -1.14      0\n",
       "1  -0.33  1.44      0\n",
       "2   0.91 -3.07      0\n",
       "3  -0.37 -1.91      0\n",
       "4  -0.63 -1.53      0\n",
       "5   0.39 -1.99      0\n",
       "6  -0.49 -2.74      0\n",
       "7  -0.68 -1.52      0\n",
       "8  -0.10 -3.43      0\n",
       "9  -0.05 -1.95      0\n",
       "10  3.88  0.65      1\n",
       "11  0.73  2.97      1\n",
       "12  0.83  3.94      1\n",
       "13  1.59  1.25      1\n",
       "14  1.14  3.91      1\n",
       "15  1.73  2.80      1\n",
       "16  1.31  1.85      1\n",
       "17  1.56  3.85      1\n",
       "18  1.23  2.54      1\n",
       "19  1.33  2.03      1"
      ]
     },
     "execution_count": 42,
     "metadata": {},
     "output_type": "execute_result"
    }
   ],
   "source": [
    "import pandas as pd\n",
    "import numpy as np\n",
    "\n",
    "df = pd.read_csv(\"perceptron_toydata-truncated.txt\", sep=\"\\t\")\n",
    "df"
   ]
  },
  {
   "cell_type": "code",
   "execution_count": 43,
   "id": "319546d0-e9ed-4542-873e-395edc05ef2f",
   "metadata": {},
   "outputs": [],
   "source": [
    "X_train = df[[\"x1\", \"x2\"]].values\n",
    "y_train = df[\"label\"].values"
   ]
  },
  {
   "cell_type": "code",
   "execution_count": 44,
   "id": "71792068-9926-41bb-81c0-2a46f6e956fc",
   "metadata": {},
   "outputs": [
    {
     "data": {
      "text/plain": [
       "array([[ 0.77, -1.14],\n",
       "       [-0.33,  1.44],\n",
       "       [ 0.91, -3.07],\n",
       "       [-0.37, -1.91],\n",
       "       [-0.63, -1.53],\n",
       "       [ 0.39, -1.99],\n",
       "       [-0.49, -2.74],\n",
       "       [-0.68, -1.52],\n",
       "       [-0.1 , -3.43],\n",
       "       [-0.05, -1.95],\n",
       "       [ 3.88,  0.65],\n",
       "       [ 0.73,  2.97],\n",
       "       [ 0.83,  3.94],\n",
       "       [ 1.59,  1.25],\n",
       "       [ 1.14,  3.91],\n",
       "       [ 1.73,  2.8 ],\n",
       "       [ 1.31,  1.85],\n",
       "       [ 1.56,  3.85],\n",
       "       [ 1.23,  2.54],\n",
       "       [ 1.33,  2.03]])"
      ]
     },
     "execution_count": 44,
     "metadata": {},
     "output_type": "execute_result"
    }
   ],
   "source": [
    "X_train"
   ]
  },
  {
   "cell_type": "code",
   "execution_count": 45,
   "id": "f2571853-0be0-48b2-9985-8a6021d01276",
   "metadata": {},
   "outputs": [
    {
     "data": {
      "text/plain": [
       "(20, 2)"
      ]
     },
     "execution_count": 45,
     "metadata": {},
     "output_type": "execute_result"
    }
   ],
   "source": [
    "X_train.shape"
   ]
  },
  {
   "cell_type": "code",
   "execution_count": 46,
   "id": "3a5e5ffb-1bca-4f1b-b4cf-a78be1b07753",
   "metadata": {},
   "outputs": [
    {
     "data": {
      "text/plain": [
       "array([0, 0, 0, 0, 0, 0, 0, 0, 0, 0, 1, 1, 1, 1, 1, 1, 1, 1, 1, 1])"
      ]
     },
     "execution_count": 46,
     "metadata": {},
     "output_type": "execute_result"
    }
   ],
   "source": [
    "y_train"
   ]
  },
  {
   "cell_type": "code",
   "execution_count": 47,
   "id": "25e406a4",
   "metadata": {},
   "outputs": [
    {
     "name": "stdout",
     "output_type": "stream",
     "text": [
      "<class 'numpy.ndarray'>\n",
      "<class 'numpy.ndarray'>\n"
     ]
    }
   ],
   "source": [
    "print(type(X_train))\n",
    "print(type(y_train))"
   ]
  },
  {
   "cell_type": "code",
   "execution_count": 48,
   "id": "68bfbbf9-4fed-4111-8391-15f2b338d8b4",
   "metadata": {},
   "outputs": [
    {
     "data": {
      "text/plain": [
       "(20,)"
      ]
     },
     "execution_count": 48,
     "metadata": {},
     "output_type": "execute_result"
    }
   ],
   "source": [
    "y_train.shape"
   ]
  },
  {
   "cell_type": "code",
   "execution_count": 49,
   "id": "b6800df4-98f6-401e-bb6c-9964c3b6e3cb",
   "metadata": {},
   "outputs": [
    {
     "data": {
      "text/plain": [
       "array([10, 10])"
      ]
     },
     "execution_count": 49,
     "metadata": {},
     "output_type": "execute_result"
    }
   ],
   "source": [
    "import numpy as np\n",
    "\n",
    "np.bincount(y_train)"
   ]
  },
  {
   "cell_type": "markdown",
   "id": "fc4663a6-e8a7-472e-b9b0-c64f546a85e9",
   "metadata": {},
   "source": [
    "## Visualizing the dataset"
   ]
  },
  {
   "cell_type": "code",
   "execution_count": 50,
   "id": "36a879c3-0c84-4476-a79a-f41d897c696a",
   "metadata": {},
   "outputs": [],
   "source": [
    "%matplotlib inline\n",
    "import matplotlib.pyplot as plt"
   ]
  },
  {
   "cell_type": "code",
   "execution_count": 51,
   "id": "bd31bb2e-5699-43d4-8874-38e9307ce853",
   "metadata": {},
   "outputs": [
    {
     "data": {
      "image/png": "[encoded data removed]",
      "text/plain": [
       "<Figure size 640x480 with 1 Axes>"
      ]
     },
     "metadata": {},
     "output_type": "display_data"
    }
   ],
   "source": [
    "plt.plot(\n",
    "    X_train[y_train == 0, 0],\n",
    "    X_train[y_train == 0, 1],\n",
    "    marker=\"D\",\n",
    "    markersize=10,\n",
    "    linestyle=\"\",\n",
    "    label=\"Class 0\",\n",
    ")\n",
    "\n",
    "plt.plot(\n",
    "    X_train[y_train == 1, 0],\n",
    "    X_train[y_train == 1, 1],\n",
    "    marker=\"^\",\n",
    "    markersize=13,\n",
    "    linestyle=\"\",\n",
    "    label=\"Class 1\",\n",
    ")\n",
    "\n",
    "plt.legend(loc=2)\n",
    "\n",
    "plt.xlim([-5, 5])\n",
    "plt.ylim([-5, 5])\n",
    "\n",
    "plt.xlabel(\"Feature $x_1$\", fontsize=12)\n",
    "plt.ylabel(\"Feature $x_2$\", fontsize=12)\n",
    "\n",
    "plt.grid()\n",
    "plt.show()"
   ]
  },
  {
   "cell_type": "markdown",
   "id": "a4b25eb5",
   "metadata": {},
   "source": [
    "# Implementing the Perceptron"
   ]
  },
  {
   "cell_type": "code",
   "execution_count": 52,
   "id": "4fe3c978",
   "metadata": {},
   "outputs": [],
   "source": [
    "class Perceptron:\n",
    "    def __init__(self, num_features: int):\n",
    "        \"\"\"Initialize the perceptron\n",
    "        \n",
    "        Args:\n",
    "            num_features: The number of features in the input\n",
    "        \"\"\"\n",
    "        self.num_features = num_features\n",
    "        self.weights = [0.0 for _ in range(num_features)]\n",
    "        self.bias = 0.0\n",
    "\n",
    "    def forward(self, x: list[float]) -> int:\n",
    "        \"\"\"Calculate the weighted sum, z = x1w1 + x2w2 + b and return the prediction\n",
    "        \n",
    "        Args:\n",
    "            x: List of features\n",
    "        \"\"\"\n",
    "        weighted_sum_z = self.bias\n",
    "        for i in range(self.num_features):\n",
    "            weighted_sum_z += x[i] * self.weights[i]\n",
    "\n",
    "        # Activation function (threshold = 0)\n",
    "        if weighted_sum_z > 0.0:\n",
    "            prediction = 1\n",
    "        else:\n",
    "            prediction = 0\n",
    "\n",
    "        return prediction\n",
    "    \n",
    "\n",
    "    def update(self, x: list[float], true_y: int) -> int:\n",
    "        \"\"\"Update the weights and bias\n",
    "        \n",
    "        Args:\n",
    "            x: List of features\n",
    "            true_y: True label\n",
    "        \"\"\"\n",
    "\n",
    "        prediction = self.forward(x)\n",
    "        error = true_y - prediction\n",
    "\n",
    "        # Update the weights and bias\n",
    "        self.bias += error\n",
    "        for i in range(self.num_features):\n",
    "            self.weights[i] += error * x[i]\n",
    "\n",
    "        return error"
   ]
  },
  {
   "cell_type": "code",
   "execution_count": 53,
   "id": "c3e71e68",
   "metadata": {},
   "outputs": [],
   "source": [
    "ppn = Perceptron(num_features=2)"
   ]
  },
  {
   "cell_type": "code",
   "execution_count": 54,
   "id": "16fcbe35",
   "metadata": {},
   "outputs": [
    {
     "name": "stdout",
     "output_type": "stream",
     "text": [
      "Weights: [0.0, 0.0]\n",
      "Bias: 0.0\n"
     ]
    }
   ],
   "source": [
    "print(f\"Weights: {ppn.weights}\")\n",
    "print(f\"Bias: {ppn.bias}\")"
   ]
  },
  {
   "cell_type": "code",
   "execution_count": 55,
   "id": "944b88c1",
   "metadata": {},
   "outputs": [
    {
     "data": {
      "text/plain": [
       "1"
      ]
     },
     "execution_count": 55,
     "metadata": {},
     "output_type": "execute_result"
    }
   ],
   "source": [
    "x = [1.1, 2.1]\n",
    "ppn.update(x, true_y=1)"
   ]
  },
  {
   "cell_type": "code",
   "execution_count": 56,
   "id": "ff04e963",
   "metadata": {},
   "outputs": [
    {
     "name": "stdout",
     "output_type": "stream",
     "text": [
      "Weights: [1.1, 2.1]\n",
      "Bias: 1.0\n"
     ]
    }
   ],
   "source": [
    "print(f\"Weights: {ppn.weights}\")\n",
    "print(f\"Bias: {ppn.bias}\")"
   ]
  },
  {
   "cell_type": "code",
   "execution_count": 57,
   "id": "27be2fac",
   "metadata": {},
   "outputs": [],
   "source": [
    "def train(model: Perceptron, all_x: np.array, all_y: np.array, epochs: int):\n",
    "    \"\"\"Train the perceptron model\n",
    "    \n",
    "    Args:\n",
    "        model: Perceptron model\n",
    "        all_x: All input features\n",
    "        all_y: All true labels\n",
    "        epochs: Number of epochs\n",
    "    \"\"\"\n",
    "    # For each epoch\n",
    "    for epoch in range(epochs):\n",
    "        # Count the errors just for monitoring\n",
    "        error_count = 0\n",
    "\n",
    "        # Loop over all data in each epoch\n",
    "        for x, y in zip(all_x, all_y):\n",
    "            error = model.update(x, y)\n",
    "            error_count += abs(error)\n",
    "        \n",
    "        print(f\"Epoch: {epoch}, Error: {error_count}\")"
   ]
  },
  {
   "cell_type": "code",
   "execution_count": 58,
   "id": "b6a71354",
   "metadata": {},
   "outputs": [
    {
     "name": "stdout",
     "output_type": "stream",
     "text": [
      "Epoch: 0, Error: 1\n",
      "Epoch: 1, Error: 3\n",
      "Epoch: 2, Error: 1\n",
      "Epoch: 3, Error: 0\n",
      "Epoch: 4, Error: 0\n"
     ]
    }
   ],
   "source": [
    "p = Perceptron(num_features=2)\n",
    "\n",
    "train(model=p, all_x=X_train, all_y=y_train, epochs=5)"
   ]
  },
  {
   "cell_type": "markdown",
   "id": "a983a988",
   "metadata": {},
   "source": [
    "# Evaluate performance"
   ]
  },
  {
   "cell_type": "code",
   "execution_count": 59,
   "id": "2f6a318e",
   "metadata": {},
   "outputs": [],
   "source": [
    "def calculate_accuracy(model, all_x, all_y):\n",
    "    correct_count = 0\n",
    "\n",
    "    for x, y in zip(all_x, all_y):\n",
    "        prediction = model.forward(x)\n",
    "        if prediction == y:\n",
    "            correct_count += 1\n",
    "    \n",
    "    return correct_count / len(all_y)"
   ]
  },
  {
   "cell_type": "markdown",
   "id": "1f92f53a",
   "metadata": {},
   "source": [
    "Ideally, we would compute this on a test dataset but for now we only have the X_train/y_train"
   ]
  },
  {
   "cell_type": "code",
   "execution_count": 60,
   "id": "eacdeb8b",
   "metadata": {},
   "outputs": [
    {
     "name": "stdout",
     "output_type": "stream",
     "text": [
      "Accuracy: 100.00%\n"
     ]
    }
   ],
   "source": [
    "train_accuracy = calculate_accuracy(model=p, all_x=X_train, all_y=y_train)\n",
    "print(f\"Accuracy: {train_accuracy*100.0:.2f}%\")"
   ]
  },
  {
   "cell_type": "code",
   "execution_count": 61,
   "id": "b74e4928",
   "metadata": {},
   "outputs": [],
   "source": [
    "def find_decision_boundary(model: Perceptron) -> tuple:\n",
    "    \"\"\"Find the decision boundary of the model\n",
    "    \n",
    "    Args:\n",
    "        model: Perceptron model\n",
    "    \"\"\"\n",
    "    w1, w2 = model.weights\n",
    "    b = model.bias\n",
    "\n",
    "    # Pick two points way off the grid so that the decision boundary covers the whole space\n",
    "    x1_min = -20\n",
    "    x1_max = 20\n",
    "\n",
    "    # Calculate the corresponding x2 values from the z formula\n",
    "    x2_min = -(w1 * x1_min + b) / w2\n",
    "    x2_max = -(w1 * x1_max + b) / w2\n",
    "\n",
    "    return x1_min, x2_min, x1_max, x2_max\n"
   ]
  },
  {
   "cell_type": "code",
   "execution_count": 62,
   "id": "57d6d8ba",
   "metadata": {},
   "outputs": [
    {
     "data": {
      "image/png": "[encoded data removed]",
      "text/plain": [
       "<Figure size 640x480 with 1 Axes>"
      ]
     },
     "metadata": {},
     "output_type": "display_data"
    }
   ],
   "source": [
    "x1_min, x2_min, x1_max, x2_max = find_decision_boundary(model=p)\n",
    "plt.plot(\n",
    "    X_train[y_train == 0, 0],\n",
    "    X_train[y_train == 0, 1],\n",
    "    marker=\"D\",\n",
    "    markersize=10,\n",
    "    linestyle=\"\",\n",
    "    label=\"Class 0\",\n",
    ")\n",
    "\n",
    "plt.plot(\n",
    "    X_train[y_train == 1, 0],\n",
    "    X_train[y_train == 1, 1],\n",
    "    marker=\"^\",\n",
    "    markersize=13,\n",
    "    linestyle=\"\",\n",
    "    label=\"Class 1\",\n",
    ")\n",
    "\n",
    "plt.plot([x1_min, x1_max], [x2_min, x2_max], color=\"black\", linestyle=\"--\", label=\"Decision Boundary\")\n",
    "\n",
    "plt.legend(loc=2)\n",
    "\n",
    "plt.xlim([-5, 5])\n",
    "plt.ylim([-5, 5])\n",
    "\n",
    "plt.xlabel(\"Feature $x_1$\", fontsize=12)\n",
    "plt.ylabel(\"Feature $x_2$\", fontsize=12)\n",
    "\n",
    "plt.grid()\n",
    "plt.show()"
   ]
  },
  {
   "cell_type": "code",
   "execution_count": null,
   "id": "ea672192",
   "metadata": {},
   "outputs": [],
   "source": []
  }
 ],
 "metadata": {
  "kernelspec": {
   "display_name": "Python 3 (ipykernel)",
   "language": "python",
   "name": "python3"
  },
  "language_info": {
   "codemirror_mode": {
    "name": "ipython",
    "version": 3
   },
   "file_extension": ".py",
   "mimetype": "text/x-python",
   "name": "python",
   "nbconvert_exporter": "python",
   "pygments_lexer": "ipython3",
   "version": "3.10.6"
  }
 },
 "nbformat": 4,
 "nbformat_minor": 5
}
